{
 "cells": [
  {
   "cell_type": "markdown",
   "id": "1139d0ee-8f58-43d2-b516-d0699388bf97",
   "metadata": {},
   "source": [
    "# Understanding Time Complexity with Big-O Notation\n",
    "\n",
    "In computer science, **Big-O notation** is a way of describing the upper bound of an algorithm's time complexity. It provides an estimate of how an algorithm's runtime grows with respect to the size of its input data. Big-O notation is widely used to analyze and compare the efficiency of algorithms and to understand how they scale as the input size increases.\n",
    "\n",
    "Big-O notation is expressed using the letter \"O\" followed by a mathematical function. Common Big-O notations include:\n",
    "\n",
    "- **O(1)**: Constant time complexity, where the algorithm's runtime does not depend on the input size.\n",
    "- **O(log n)**: Logarithmic time complexity, commonly found in efficient search and divide-and-conquer algorithms.\n",
    "- **O(n)**: Linear time complexity, where the runtime grows linearly with the input size.\n",
    "- **O(n log n)**: Linearithmic time complexity, often seen in efficient sorting algorithms.\n",
    "- **O(n^2)**: Quadratic time complexity, common in nested loops and inefficient algorithms.\n",
    "- **O(2^n)**: Exponential time complexity, usually seen in brute-force algorithms.\n",
    "- **O(n!)**: Factorial time complexity, representing an extremely inefficient algorithm.\n",
    "\n",
    "In this Jupyter Notebook, we will explore and analyze the time complexity of various code snippets and algorithms using Big-O notation.\n"
   ]
  },
  {
   "cell_type": "code",
   "execution_count": null,
   "id": "c2f93046-def8-4fbf-9740-3d1d2d43fccf",
   "metadata": {},
   "outputs": [],
   "source": [
    "import timeit\n",
    "import matplotlib.pyplot as plt\n",
    "import random\n",
    "\n",
    "default_repetitions = 100\n",
    "\n",
    "def wrapper(func, *args, **kwargs):\n",
    "    def wrapped():\n",
    "        return func(*args, **kwargs)\n",
    "\n",
    "    return wrapped\n",
    "\n",
    "\n",
    "def timer(func, n, repetitions):\n",
    "    wrapped = wrapper(func, n)\n",
    "    times = timeit.repeat(wrapped, repeat=repetitions, number=1)\n",
    "    return min(times) * 1000\n",
    "\n",
    "\n",
    "def plot_task(\n",
    "    func, start, end, step, title, xlabel, ylabel, scale=\"linear\", repetitions=default_repetitions\n",
    "):\n",
    "    if scale == \"log\":\n",
    "        x = [2**i for i in range(start, end, step)]\n",
    "    else:\n",
    "        x = list(range(start, end, step))\n",
    "    y = [timer(func, i, repetitions=repetitions) for i in x]\n",
    "\n",
    "    plt.figure(figsize=(10, 6))\n",
    "    plt.plot(x, y, \"ro-\", label=title)\n",
    "    plt.title(title)\n",
    "    plt.xlabel(xlabel)\n",
    "    plt.ylabel(ylabel)\n",
    "    plt.grid(True)\n",
    "\n",
    "    if scale == \"log\":\n",
    "        plt.xscale(\"log\")\n",
    "        plt.yscale(\"log\")\n",
    "\n",
    "    plt.show()"
   ]
  },
  {
   "cell_type": "markdown",
   "id": "dd469e07",
   "metadata": {},
   "source": [
    "## Task 1\n",
    "\n",
    "Evaluate time complexity of the following function.\n"
   ]
  },
  {
   "cell_type": "code",
   "execution_count": null,
   "id": "a7ef7a8e",
   "metadata": {},
   "outputs": [],
   "source": [
    "def task_1(n):\n",
    "    test = 0\n",
    "    for i in range(n):\n",
    "        for j in range(n):\n",
    "            test = test + i * j\n",
    "    return test\n",
    "\n",
    "\n",
    "plot_task(task_1, 10, 500, 10, \"Task 1 is O(n^2)\", \"n\", \"time, ms\")"
   ]
  },
  {
   "cell_type": "markdown",
   "id": "414722f7",
   "metadata": {},
   "source": [
    "## Task 2\n",
    "\n",
    "Evaluate time complexity of the following function.\n"
   ]
  },
  {
   "cell_type": "code",
   "execution_count": null,
   "id": "073b1cc5",
   "metadata": {},
   "outputs": [],
   "source": [
    "def task_2(n):\n",
    "    test = 0\n",
    "    for i in range(n):\n",
    "        test = test + 1\n",
    "    for j in range(n):\n",
    "        test = test - 1\n",
    "    return test\n",
    "\n",
    "\n",
    "plot_task(task_2, 10, 500, 10, \"Task 2 is O(n)\", \"n\", \"time, ms\")"
   ]
  },
  {
   "cell_type": "markdown",
   "id": "8f2d1184",
   "metadata": {},
   "source": [
    "## Task 3\n",
    "\n",
    "Evaluate time complexity of the following function.\n"
   ]
  },
  {
   "cell_type": "code",
   "execution_count": null,
   "id": "55484b83",
   "metadata": {},
   "outputs": [],
   "source": [
    "def task_3(n):\n",
    "    i = n\n",
    "    while i > 0:\n",
    "        k = 2 + 2\n",
    "        i = i // 2\n",
    "    return k\n",
    "\n",
    "\n",
    "plot_task(task_3, 1, 16, 1, \"Task 3 is O(log n)\", \"n\", \"time, ms\", scale=\"log\")"
   ]
  },
  {
   "cell_type": "markdown",
   "id": "5cd1a56f",
   "metadata": {},
   "source": [
    "## Task 4\n",
    "\n",
    "Evaluate time complexity of the following function.\n"
   ]
  },
  {
   "cell_type": "code",
   "execution_count": null,
   "id": "d3d2a6c8",
   "metadata": {},
   "outputs": [],
   "source": [
    "def task_4(n):\n",
    "    k = 0\n",
    "    for i in range(n):\n",
    "        k = 2 + 2\n",
    "    return k\n",
    "\n",
    "\n",
    "plot_task(task_4, 10, 500, 10, \"Task 4 is O(n)\", \"n\", \"time, ms\")"
   ]
  },
  {
   "cell_type": "markdown",
   "id": "01ccbe57",
   "metadata": {},
   "source": [
    "## Task 5\n",
    "\n",
    "Evaluate time complexity of the following function.\n"
   ]
  },
  {
   "cell_type": "code",
   "execution_count": null,
   "id": "e7881063",
   "metadata": {},
   "outputs": [],
   "source": [
    "def task_5(n):\n",
    "    k = 0\n",
    "    for i in range(n):\n",
    "        for j in range(n):\n",
    "            for k in range(n):\n",
    "                k = 2 + 2\n",
    "    return k\n",
    "\n",
    "\n",
    "plot_task(task_5, 10, 500, 10, \"Task 5 is O(n^3)\", \"n\", \"time, ms\")"
   ]
  },
  {
   "cell_type": "markdown",
   "id": "5c074c8c",
   "metadata": {},
   "source": [
    "## Task 6\n",
    "\n",
    "Confirming **O(1)** time complexity of list indexing.\n"
   ]
  },
  {
   "cell_type": "code",
   "execution_count": null,
   "id": "df5a8360",
   "metadata": {},
   "outputs": [],
   "source": [
    "def access_list_element(lst, index):\n",
    "    return lst[index]\n",
    "\n",
    "\n",
    "def list_access_experiment(list_sizes, repetitions):\n",
    "    access_times = []\n",
    "    for size in list_sizes:\n",
    "        my_list = list(range(size))\n",
    "        random_index = random.randint(0, size - 1)\n",
    "        access_time = timeit.timeit(\n",
    "            lambda: access_list_element(my_list, random_index), number=repetitions\n",
    "        )\n",
    "        access_times.append(access_time)\n",
    "    return access_times\n",
    "\n",
    "\n",
    "list_sizes = [1000, 2000, 3000, 4000, 5000, 6000, 7000, 8000, 9000, 10000]\n",
    "repetitions = 10\n",
    "access_times = list_access_experiment(list_sizes, repetitions)\n",
    "\n",
    "plt.figure(figsize=(10, 6))\n",
    "plt.plot(list_sizes, access_times, \"ro-\", label=\"List Access Time\")\n",
    "plt.title(\"List Indexing Time Complexity O(1)\")\n",
    "plt.xlabel(\"List Size\")\n",
    "plt.ylabel(\"Access Time (seconds)\")\n",
    "plt.grid(True)\n",
    "plt.show()"
   ]
  },
  {
   "cell_type": "markdown",
   "id": "2e27b986",
   "metadata": {},
   "source": [
    "## Task 7\n",
    "\n",
    "Confirming **O(1)** Time complexity of dictionary access and update.\n"
   ]
  },
  {
   "cell_type": "code",
   "execution_count": null,
   "id": "12e8d8ea",
   "metadata": {},
   "outputs": [],
   "source": [
    "def access_dict_element(my_dict, key):\n",
    "    return my_dict[key]\n",
    "\n",
    "\n",
    "def update_dict_element(my_dict, key, value):\n",
    "    my_dict[key] = value\n",
    "\n",
    "\n",
    "def dict_access_experiment(dict_sizes, repetitions):\n",
    "    access_times = []\n",
    "    update_times = []\n",
    "    for size in dict_sizes:\n",
    "        my_dict = {i: i for i in range(size)}\n",
    "        random_key = random.randint(0, size - 1)\n",
    "        random_value = random.randint(0, size - 1)\n",
    "\n",
    "        access_time = timeit.timeit(\n",
    "            lambda: access_dict_element(my_dict, random_key), number=repetitions\n",
    "        )\n",
    "        access_times.append(access_time)\n",
    "\n",
    "        update_time = timeit.timeit(\n",
    "            lambda: update_dict_element(my_dict, random_key, random_value),\n",
    "            number=repetitions,\n",
    "        )\n",
    "        update_times.append(update_time)\n",
    "    return access_times, update_times\n",
    "\n",
    "\n",
    "dict_sizes = [1000, 2000, 3000, 4000, 5000, 6000, 7000, 8000, 9000, 10000]\n",
    "repetitions = default_repetitions\n",
    "access_times, update_times = dict_access_experiment(dict_sizes, repetitions)\n",
    "\n",
    "plt.figure(figsize=(10, 6))\n",
    "plt.plot(dict_sizes, access_times, \"ro-\", label=\"Dictionary Access Time\")\n",
    "plt.plot(dict_sizes, update_times, \"bo-\", label=\"Dictionary Update Time\")\n",
    "plt.title(\"Dictionary Access and Update Time Complexity O(1)\")\n",
    "plt.xlabel(\"Dictionary Size\")\n",
    "plt.ylabel(\"Time (seconds)\")\n",
    "plt.grid(True)\n",
    "plt.legend()\n",
    "plt.show()"
   ]
  },
  {
   "cell_type": "markdown",
   "id": "5337db6e",
   "metadata": {},
   "source": [
    "## Task 8\n",
    "\n",
    "Comparing the performance of `del` operator for lists and dictionaries.\n"
   ]
  },
  {
   "cell_type": "code",
   "execution_count": null,
   "id": "e3a8be8b",
   "metadata": {},
   "outputs": [],
   "source": [
    "def list_delete_element(my_list, index):\n",
    "    del my_list[index]\n",
    "\n",
    "\n",
    "def dict_delete_element(my_dict, key):\n",
    "    del my_dict[key]\n",
    "\n",
    "\n",
    "def delete_experiment(data_structure_sizes, repetitions):\n",
    "    list_delete_times = []\n",
    "    dict_delete_times = []\n",
    "    for size in data_structure_sizes:\n",
    "        list_timer = timeit.Timer(\n",
    "            lambda: list_delete_element(list(range(size)), size // 2)\n",
    "        )\n",
    "        list_delete_time = list_timer.timeit(number=repetitions)\n",
    "        list_delete_times.append(list_delete_time)\n",
    "\n",
    "        dict_timer = timeit.Timer(\n",
    "            lambda: dict_delete_element({i: i for i in range(size)}, size // 2)\n",
    "        )\n",
    "        dict_delete_time = dict_timer.timeit(number=repetitions)\n",
    "        dict_delete_times.append(dict_delete_time)\n",
    "\n",
    "    return list_delete_times, dict_delete_times\n",
    "\n",
    "\n",
    "data_structure_sizes = [2000, 4000, 8000, 16000, 32000, 64000]\n",
    "repetitions = default_repetitions\n",
    "\n",
    "list_delete_times, dict_delete_times = delete_experiment(\n",
    "    data_structure_sizes, repetitions\n",
    ")\n",
    "\n",
    "plt.figure(figsize=(10, 6))\n",
    "plt.plot(data_structure_sizes, list_delete_times, \"ro-\", label=\"List Delete Time\")\n",
    "plt.plot(data_structure_sizes, dict_delete_times, \"bo-\", label=\"Dictionary Delete Time\")\n",
    "plt.title(\"List O(n) vs Dictionary O(1) Delete Time Complexity\")\n",
    "plt.xlabel(\"Data Structure Size\")\n",
    "plt.ylabel(\"Time (seconds)\")\n",
    "plt.legend()\n",
    "plt.grid(True)\n",
    "plt.show()"
   ]
  },
  {
   "cell_type": "markdown",
   "id": "af79275a",
   "metadata": {},
   "source": [
    "## Task 9\n",
    "Evaluate time complexity of the following function."
   ]
  },
  {
   "cell_type": "code",
   "execution_count": null,
   "id": "95d6abf0",
   "metadata": {},
   "outputs": [],
   "source": [
    "def fibonacci(n):\n",
    "    if n < 2:\n",
    "        return n\n",
    "    return fibonacci(n - 1) + fibonacci(n - 2)\n",
    "\n",
    "\n",
    "plot_task(\n",
    "    func=fibonacci,\n",
    "    start=1,\n",
    "    end=6,\n",
    "    step=1,\n",
    "    title=\"Fibonacci is O(2^n)\",\n",
    "    xlabel=\"n\",\n",
    "    ylabel=\"Time (ms)\",\n",
    "    scale=\"log\",\n",
    ")"
   ]
  },
  {
   "cell_type": "markdown",
   "id": "fe949045",
   "metadata": {},
   "source": [
    "## Task 10\n",
    "Evaluate time complexity of the following functions."
   ]
  },
  {
   "cell_type": "code",
   "execution_count": null,
   "id": "3518f1b4",
   "metadata": {},
   "outputs": [],
   "source": [
    "def factorial_iterative(n):\n",
    "    result = 1\n",
    "    for i in range(1, n + 1):\n",
    "        result *= i\n",
    "    return result\n",
    "\n",
    "def factorial_recursive(n):\n",
    "    if n == 0:\n",
    "        return 1\n",
    "    return factorial_recursive(n - 1) * n\n",
    "\n",
    "\n",
    "plot_task(\n",
    "    func=factorial_iterative,\n",
    "    start=1,\n",
    "    end=1000,\n",
    "    step=1,\n",
    "    title=\"Factorial Iterative is O(n)\",\n",
    "    xlabel=\"n\",\n",
    "    ylabel=\"Time (ms)\",\n",
    ")\n",
    "\n",
    "plot_task(\n",
    "    func=factorial_recursive,\n",
    "    start=1,\n",
    "    end=1000,\n",
    "    step=1,\n",
    "    title=\"Factorial Recursive is O(n)\",\n",
    "    xlabel=\"n\",\n",
    "    ylabel=\"Time (ms)\",\n",
    ")"
   ]
  }
 ],
 "metadata": {
  "kernelspec": {
   "display_name": "Python 3 (ipykernel)",
   "language": "python",
   "name": "python3"
  },
  "language_info": {
   "codemirror_mode": {
    "name": "ipython",
    "version": 3
   },
   "file_extension": ".py",
   "mimetype": "text/x-python",
   "name": "python",
   "nbconvert_exporter": "python",
   "pygments_lexer": "ipython3",
   "version": "3.8.18"
  }
 },
 "nbformat": 4,
 "nbformat_minor": 5
}
